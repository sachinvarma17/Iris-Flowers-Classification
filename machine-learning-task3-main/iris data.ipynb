{
 "cells": [
  {
   "cell_type": "code",
   "execution_count": 12,
   "id": "474146b1",
   "metadata": {},
   "outputs": [],
   "source": [
    "import pandas as pd\n",
    "import numpy as np\n",
    "import matplotlib.pyplot as plt\n",
    "from sklearn.preprocessing import LabelEncoder  #it is used convert continous data into int\n",
    "from sklearn.model_selection import train_test_split# it is used to train the data and test the data\n",
    "from sklearn.linear_model import LogisticRegression #it is used to create a model\n",
    "from sklearn.metrics import accuracy_score #it is used to measure accuracy of data set"
   ]
  },
  {
   "cell_type": "code",
   "execution_count": 14,
   "id": "19dfa00d",
   "metadata": {},
   "outputs": [],
   "source": [
    "k=pd.read_csv(r\"C:\\Users\\kalyana raghava\\Desktop\\machine learning\\task 3\\flower_dataset.csv\")"
   ]
  },
  {
   "cell_type": "code",
   "execution_count": 15,
   "id": "2c360929",
   "metadata": {},
   "outputs": [
    {
     "name": "stdout",
     "output_type": "stream",
     "text": [
      "    sepal_length  petal_length  species\n",
      "0       1.228312     -0.757178        0\n",
      "1       0.698409     -1.380295        0\n",
      "2       2.548817      2.502258        1\n",
      "3       0.573579     -1.352979        0\n",
      "4       0.585900     -1.337457        0\n",
      "..           ...           ...      ...\n",
      "95      0.473358     -1.438620        0\n",
      "96      1.233323      1.239336        1\n",
      "97      0.460109     -1.487396        0\n",
      "98      0.679631      0.757837        1\n",
      "99      1.040314      1.114349        1\n",
      "\n",
      "[100 rows x 3 columns]\n"
     ]
    }
   ],
   "source": [
    "print(k)"
   ]
  },
  {
   "cell_type": "code",
   "execution_count": 16,
   "id": "6f00f862",
   "metadata": {},
   "outputs": [
    {
     "data": {
      "text/html": [
       "<div>\n",
       "<style scoped>\n",
       "    .dataframe tbody tr th:only-of-type {\n",
       "        vertical-align: middle;\n",
       "    }\n",
       "\n",
       "    .dataframe tbody tr th {\n",
       "        vertical-align: top;\n",
       "    }\n",
       "\n",
       "    .dataframe thead th {\n",
       "        text-align: right;\n",
       "    }\n",
       "</style>\n",
       "<table border=\"1\" class=\"dataframe\">\n",
       "  <thead>\n",
       "    <tr style=\"text-align: right;\">\n",
       "      <th></th>\n",
       "      <th>sepal_length</th>\n",
       "      <th>petal_length</th>\n",
       "      <th>species</th>\n",
       "    </tr>\n",
       "  </thead>\n",
       "  <tbody>\n",
       "    <tr>\n",
       "      <th>0</th>\n",
       "      <td>1.228312</td>\n",
       "      <td>-0.757178</td>\n",
       "      <td>0</td>\n",
       "    </tr>\n",
       "    <tr>\n",
       "      <th>1</th>\n",
       "      <td>0.698409</td>\n",
       "      <td>-1.380295</td>\n",
       "      <td>0</td>\n",
       "    </tr>\n",
       "    <tr>\n",
       "      <th>2</th>\n",
       "      <td>2.548817</td>\n",
       "      <td>2.502258</td>\n",
       "      <td>1</td>\n",
       "    </tr>\n",
       "    <tr>\n",
       "      <th>3</th>\n",
       "      <td>0.573579</td>\n",
       "      <td>-1.352979</td>\n",
       "      <td>0</td>\n",
       "    </tr>\n",
       "    <tr>\n",
       "      <th>4</th>\n",
       "      <td>0.585900</td>\n",
       "      <td>-1.337457</td>\n",
       "      <td>0</td>\n",
       "    </tr>\n",
       "  </tbody>\n",
       "</table>\n",
       "</div>"
      ],
      "text/plain": [
       "   sepal_length  petal_length  species\n",
       "0      1.228312     -0.757178        0\n",
       "1      0.698409     -1.380295        0\n",
       "2      2.548817      2.502258        1\n",
       "3      0.573579     -1.352979        0\n",
       "4      0.585900     -1.337457        0"
      ]
     },
     "execution_count": 16,
     "metadata": {},
     "output_type": "execute_result"
    }
   ],
   "source": [
    "k.head()"
   ]
  },
  {
   "cell_type": "code",
   "execution_count": 17,
   "id": "f7c861ae",
   "metadata": {},
   "outputs": [
    {
     "name": "stdout",
     "output_type": "stream",
     "text": [
      "<class 'pandas.core.frame.DataFrame'>\n",
      "RangeIndex: 100 entries, 0 to 99\n",
      "Data columns (total 3 columns):\n",
      " #   Column        Non-Null Count  Dtype  \n",
      "---  ------        --------------  -----  \n",
      " 0   sepal_length  100 non-null    float64\n",
      " 1   petal_length  100 non-null    float64\n",
      " 2   species       100 non-null    int64  \n",
      "dtypes: float64(2), int64(1)\n",
      "memory usage: 2.5 KB\n"
     ]
    }
   ],
   "source": [
    "k.info()"
   ]
  },
  {
   "cell_type": "code",
   "execution_count": 18,
   "id": "6b7662d7",
   "metadata": {},
   "outputs": [
    {
     "data": {
      "text/html": [
       "<div>\n",
       "<style scoped>\n",
       "    .dataframe tbody tr th:only-of-type {\n",
       "        vertical-align: middle;\n",
       "    }\n",
       "\n",
       "    .dataframe tbody tr th {\n",
       "        vertical-align: top;\n",
       "    }\n",
       "\n",
       "    .dataframe thead th {\n",
       "        text-align: right;\n",
       "    }\n",
       "</style>\n",
       "<table border=\"1\" class=\"dataframe\">\n",
       "  <thead>\n",
       "    <tr style=\"text-align: right;\">\n",
       "      <th></th>\n",
       "      <th>sepal_length</th>\n",
       "      <th>petal_length</th>\n",
       "      <th>species</th>\n",
       "    </tr>\n",
       "  </thead>\n",
       "  <tbody>\n",
       "    <tr>\n",
       "      <th>0</th>\n",
       "      <td>False</td>\n",
       "      <td>False</td>\n",
       "      <td>False</td>\n",
       "    </tr>\n",
       "    <tr>\n",
       "      <th>1</th>\n",
       "      <td>False</td>\n",
       "      <td>False</td>\n",
       "      <td>False</td>\n",
       "    </tr>\n",
       "    <tr>\n",
       "      <th>2</th>\n",
       "      <td>False</td>\n",
       "      <td>False</td>\n",
       "      <td>False</td>\n",
       "    </tr>\n",
       "    <tr>\n",
       "      <th>3</th>\n",
       "      <td>False</td>\n",
       "      <td>False</td>\n",
       "      <td>False</td>\n",
       "    </tr>\n",
       "    <tr>\n",
       "      <th>4</th>\n",
       "      <td>False</td>\n",
       "      <td>False</td>\n",
       "      <td>False</td>\n",
       "    </tr>\n",
       "    <tr>\n",
       "      <th>...</th>\n",
       "      <td>...</td>\n",
       "      <td>...</td>\n",
       "      <td>...</td>\n",
       "    </tr>\n",
       "    <tr>\n",
       "      <th>95</th>\n",
       "      <td>False</td>\n",
       "      <td>False</td>\n",
       "      <td>False</td>\n",
       "    </tr>\n",
       "    <tr>\n",
       "      <th>96</th>\n",
       "      <td>False</td>\n",
       "      <td>False</td>\n",
       "      <td>False</td>\n",
       "    </tr>\n",
       "    <tr>\n",
       "      <th>97</th>\n",
       "      <td>False</td>\n",
       "      <td>False</td>\n",
       "      <td>False</td>\n",
       "    </tr>\n",
       "    <tr>\n",
       "      <th>98</th>\n",
       "      <td>False</td>\n",
       "      <td>False</td>\n",
       "      <td>False</td>\n",
       "    </tr>\n",
       "    <tr>\n",
       "      <th>99</th>\n",
       "      <td>False</td>\n",
       "      <td>False</td>\n",
       "      <td>False</td>\n",
       "    </tr>\n",
       "  </tbody>\n",
       "</table>\n",
       "<p>100 rows × 3 columns</p>\n",
       "</div>"
      ],
      "text/plain": [
       "    sepal_length  petal_length  species\n",
       "0          False         False    False\n",
       "1          False         False    False\n",
       "2          False         False    False\n",
       "3          False         False    False\n",
       "4          False         False    False\n",
       "..           ...           ...      ...\n",
       "95         False         False    False\n",
       "96         False         False    False\n",
       "97         False         False    False\n",
       "98         False         False    False\n",
       "99         False         False    False\n",
       "\n",
       "[100 rows x 3 columns]"
      ]
     },
     "execution_count": 18,
     "metadata": {},
     "output_type": "execute_result"
    }
   ],
   "source": [
    "k.isnull()"
   ]
  },
  {
   "cell_type": "code",
   "execution_count": 19,
   "id": "46b7006e",
   "metadata": {},
   "outputs": [
    {
     "data": {
      "text/plain": [
       "sepal_length    0\n",
       "petal_length    0\n",
       "species         0\n",
       "dtype: int64"
      ]
     },
     "execution_count": 19,
     "metadata": {},
     "output_type": "execute_result"
    }
   ],
   "source": [
    "k.isnull().sum()"
   ]
  },
  {
   "cell_type": "code",
   "execution_count": 34,
   "id": "d5abdc78",
   "metadata": {},
   "outputs": [],
   "source": [
    "x3=k[\"sepal_length\"].head()\n",
    "y3=k[\"species\"].head()"
   ]
  },
  {
   "cell_type": "code",
   "execution_count": null,
   "id": "2eb3d065",
   "metadata": {},
   "outputs": [],
   "source": []
  },
  {
   "cell_type": "code",
   "execution_count": 35,
   "id": "2df80670",
   "metadata": {},
   "outputs": [
    {
     "data": {
      "image/png": "[encoded data removed]",
      "text/plain": [
       "<Figure size 640x480 with 1 Axes>"
      ]
     },
     "metadata": {},
     "output_type": "display_data"
    }
   ],
   "source": [
    "plt.bar(x3,y3)\n",
    "plt.xlabel(\"sepal length\")\n",
    "plt.ylabel(\"species\")\n",
    "plt.show()"
   ]
  },
  {
   "cell_type": "code",
   "execution_count": 36,
   "id": "a8faa506",
   "metadata": {},
   "outputs": [
    {
     "data": {
      "text/plain": [
       "(array([3., 0., 0., 1., 0., 0., 0., 0., 0., 1.]),\n",
       " array([0.57357881, 0.77110266, 0.96862651, 1.16615036, 1.3636742 ,\n",
       "        1.56119805, 1.7587219 , 1.95624575, 2.1537696 , 2.35129344,\n",
       "        2.54881729]),\n",
       " <BarContainer object of 10 artists>)"
      ]
     },
     "execution_count": 36,
     "metadata": {},
     "output_type": "execute_result"
    },
    {
     "data": {
      "image/png": "[encoded data removed]",
      "text/plain": [
       "<Figure size 640x480 with 1 Axes>"
      ]
     },
     "metadata": {},
     "output_type": "display_data"
    }
   ],
   "source": [
    "plt.hist(x3)"
   ]
  },
  {
   "cell_type": "code",
   "execution_count": 37,
   "id": "c7b747c0",
   "metadata": {},
   "outputs": [],
   "source": [
    "#divide the data into two parts\n",
    "#slected attributes are stored in x\n",
    "# target attributes are stored in y\n",
    "#based upon the above example except specied reminaning stored in x\n",
    "#y consists only species"
   ]
  },
  {
   "cell_type": "code",
   "execution_count": 38,
   "id": "d7e1ab98",
   "metadata": {},
   "outputs": [
    {
     "name": "stdout",
     "output_type": "stream",
     "text": [
      "    sepal_length  petal_length\n",
      "0       1.228312     -0.757178\n",
      "1       0.698409     -1.380295\n",
      "2       2.548817      2.502258\n",
      "3       0.573579     -1.352979\n",
      "4       0.585900     -1.337457\n",
      "..           ...           ...\n",
      "95      0.473358     -1.438620\n",
      "96      1.233323      1.239336\n",
      "97      0.460109     -1.487396\n",
      "98      0.679631      0.757837\n",
      "99      1.040314      1.114349\n",
      "\n",
      "[100 rows x 2 columns]\n"
     ]
    }
   ],
   "source": [
    "x=k.drop(\"species\",axis=1)\n",
    "print(x)"
   ]
  },
  {
   "cell_type": "code",
   "execution_count": 39,
   "id": "ba3cb1e6",
   "metadata": {},
   "outputs": [
    {
     "data": {
      "text/plain": [
       "(100, 2)"
      ]
     },
     "execution_count": 39,
     "metadata": {},
     "output_type": "execute_result"
    }
   ],
   "source": [
    "x.shape"
   ]
  },
  {
   "cell_type": "code",
   "execution_count": 40,
   "id": "e3d59c32",
   "metadata": {},
   "outputs": [
    {
     "name": "stdout",
     "output_type": "stream",
     "text": [
      "0     0\n",
      "1     0\n",
      "2     1\n",
      "3     0\n",
      "4     0\n",
      "     ..\n",
      "95    0\n",
      "96    1\n",
      "97    0\n",
      "98    1\n",
      "99    1\n",
      "Name: species, Length: 100, dtype: int64\n"
     ]
    }
   ],
   "source": [
    "y=k[\"species\"]\n",
    "print(y)"
   ]
  },
  {
   "cell_type": "code",
   "execution_count": 41,
   "id": "a05d91dc",
   "metadata": {},
   "outputs": [],
   "source": [
    "#now divide the x into two parts x_train,x_test\n",
    "#similarly y aslo into two parts y_train,y_test\n",
    "#now test size is 20% and train size is 80%\n",
    "#random state is used to divide the data equally"
   ]
  },
  {
   "cell_type": "code",
   "execution_count": 42,
   "id": "e9af6b34",
   "metadata": {},
   "outputs": [],
   "source": [
    "x_train,x_test,y_train,y_test=train_test_split(x,y,test_size=0.2,random_state=42)"
   ]
  },
  {
   "cell_type": "code",
   "execution_count": 43,
   "id": "ce0bd08f",
   "metadata": {},
   "outputs": [
    {
     "name": "stdout",
     "output_type": "stream",
     "text": [
      "x data     sepal_length  petal_length\n",
      "0       1.228312     -0.757178\n",
      "1       0.698409     -1.380295\n",
      "2       2.548817      2.502258\n",
      "3       0.573579     -1.352979\n",
      "4       0.585900     -1.337457\n",
      "..           ...           ...\n",
      "95      0.473358     -1.438620\n",
      "96      1.233323      1.239336\n",
      "97      0.460109     -1.487396\n",
      "98      0.679631      0.757837\n",
      "99      1.040314      1.114349\n",
      "\n",
      "[100 rows x 2 columns]\n",
      "x_train data     sepal_length  petal_length\n",
      "55      1.451510      1.385918\n",
      "88      1.441695      1.409329\n",
      "26      1.129916      1.102361\n",
      "42     -0.082392     -0.028611\n",
      "69      0.882593     -1.136636\n",
      "..           ...           ...\n",
      "60      0.711447      0.838779\n",
      "71      0.378790     -1.559105\n",
      "14      3.084021      2.833249\n",
      "92      1.412767     -0.676214\n",
      "51      1.233907      1.196841\n",
      "\n",
      "[80 rows x 2 columns]\n",
      "x_test data     sepal_length  petal_length\n",
      "83      1.686745     -0.359041\n",
      "53      0.877176     -1.154699\n",
      "70      0.591373      0.656893\n",
      "45     -0.777197     -0.636047\n",
      "44      1.290212     -0.764086\n",
      "39      1.857661     -0.405301\n",
      "22      1.887820     -0.366994\n",
      "80      0.645693      0.692033\n",
      "10      0.639441     -1.233955\n",
      "0       1.228312     -0.757178\n",
      "18      0.578859      0.565994\n",
      "30      0.769169     -1.060967\n",
      "73      0.733752     -1.245675\n",
      "33      0.879719     -1.177569\n",
      "90      0.248028      0.278944\n",
      "4       0.585900     -1.337457\n",
      "76      0.377059     -1.478576\n",
      "77      1.938667      1.899103\n",
      "12      0.739028      0.821807\n",
      "31      1.615506     -0.573012\n"
     ]
    }
   ],
   "source": [
    "print(\"x data\",x)\n",
    "print(\"x_train data\",x_train)\n",
    "print(\"x_test data\",x_test)"
   ]
  },
  {
   "cell_type": "code",
   "execution_count": 44,
   "id": "3ecd4e81",
   "metadata": {},
   "outputs": [
    {
     "name": "stdout",
     "output_type": "stream",
     "text": [
      "shape of x (100, 2)\n",
      "x_train shape (80, 2)\n",
      "x_test shape (20, 2)\n"
     ]
    }
   ],
   "source": [
    "print(\"shape of x\",x.shape)\n",
    "print(\"x_train shape\",x_train.shape)\n",
    "print(\"x_test shape\",x_test.shape)"
   ]
  },
  {
   "cell_type": "code",
   "execution_count": 45,
   "id": "f967cd20",
   "metadata": {},
   "outputs": [
    {
     "name": "stdout",
     "output_type": "stream",
     "text": [
      "y data 0     0\n",
      "1     0\n",
      "2     1\n",
      "3     0\n",
      "4     0\n",
      "     ..\n",
      "95    0\n",
      "96    1\n",
      "97    0\n",
      "98    1\n",
      "99    1\n",
      "Name: species, Length: 100, dtype: int64\n",
      "y_train data 55    1\n",
      "88    1\n",
      "26    1\n",
      "42    1\n",
      "69    0\n",
      "     ..\n",
      "60    1\n",
      "71    0\n",
      "14    1\n",
      "92    0\n",
      "51    1\n",
      "Name: species, Length: 80, dtype: int64\n",
      "y_test data 83    0\n",
      "53    0\n",
      "70    1\n",
      "45    1\n",
      "44    0\n",
      "39    0\n",
      "22    0\n",
      "80    1\n",
      "10    0\n",
      "0     0\n",
      "18    1\n",
      "30    0\n",
      "73    0\n",
      "33    0\n",
      "90    1\n",
      "4     0\n",
      "76    0\n",
      "77    1\n",
      "12    1\n",
      "31    0\n",
      "Name: species, dtype: int64\n"
     ]
    }
   ],
   "source": [
    "print(\"y data\",y)\n",
    "print(\"y_train data\",y_train)\n",
    "print(\"y_test data\",y_test)"
   ]
  },
  {
   "cell_type": "code",
   "execution_count": 46,
   "id": "4a9ac908",
   "metadata": {},
   "outputs": [
    {
     "name": "stdout",
     "output_type": "stream",
     "text": [
      "y shape is (100,)\n",
      "y_train shape is  (80,)\n",
      "y_test shape is (20,)\n"
     ]
    }
   ],
   "source": [
    "print(\"y shape is\",y.shape)\n",
    "print(\"y_train shape is \",y_train.shape)\n",
    "print(\"y_test shape is\",y_test.shape)"
   ]
  },
  {
   "cell_type": "code",
   "execution_count": 47,
   "id": "c5d73d93",
   "metadata": {},
   "outputs": [
    {
     "data": {
      "text/plain": [
       "LogisticRegression()"
      ]
     },
     "execution_count": 47,
     "metadata": {},
     "output_type": "execute_result"
    }
   ],
   "source": [
    "#now create a model and find accuracy\n",
    "model=LogisticRegression()\n",
    "model.fit(x_train,y_train)"
   ]
  },
  {
   "cell_type": "code",
   "execution_count": 48,
   "id": "a93a5d7d",
   "metadata": {},
   "outputs": [],
   "source": [
    "#now find the accuracy \n",
    "y_pred=model.predict(x_test)"
   ]
  },
  {
   "cell_type": "raw",
   "id": "7c9f27c8",
   "metadata": {},
   "source": []
  },
  {
   "cell_type": "code",
   "execution_count": 48,
   "id": "87201f1b",
   "metadata": {},
   "outputs": [
    {
     "name": "stdout",
     "output_type": "stream",
     "text": [
      "the accuracy score is 1.0\n"
     ]
    }
   ],
   "source": [
    "mse=accuracy_score(y_pred,y_test)\n",
    "print(\"the accuracy score is\",mse)"
   ]
  },
  {
   "cell_type": "code",
   "execution_count": null,
   "id": "0f52aa76",
   "metadata": {},
   "outputs": [],
   "source": []
  }
 ],
 "metadata": {
  "kernelspec": {
   "display_name": "Python 3 (ipykernel)",
   "language": "python",
   "name": "python3"
  },
  "language_info": {
   "codemirror_mode": {
    "name": "ipython",
    "version": 3
   },
   "file_extension": ".py",
   "mimetype": "text/x-python",
   "name": "python",
   "nbconvert_exporter": "python",
   "pygments_lexer": "ipython3",
   "version": "3.9.13"
  }
 },
 "nbformat": 4,
 "nbformat_minor": 5
}
